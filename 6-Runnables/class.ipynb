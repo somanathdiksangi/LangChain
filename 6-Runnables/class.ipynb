{
 "cells": [
  {
   "cell_type": "code",
   "execution_count": 1,
   "id": "485af55f",
   "metadata": {},
   "outputs": [
    {
     "data": {
      "text/plain": [
       "2"
      ]
     },
     "execution_count": 1,
     "metadata": {},
     "output_type": "execute_result"
    }
   ],
   "source": [
    "1+1"
   ]
  },
  {
   "cell_type": "code",
   "execution_count": 7,
   "id": "ae749167",
   "metadata": {},
   "outputs": [],
   "source": [
    "import random\n",
    "class nakaliLLM:\n",
    "    def __init__(self):\n",
    "        print(\"llm created\")\n",
    "\n",
    "    def predict(self,prompt):\n",
    "        responce=[\n",
    "            'deli is a capital of india',\n",
    "            'rcb is won ipl in 2025',\n",
    "        \n",
    "        ]\n",
    "        return {'responce':random.choice(responce)}\n",
    "    "
   ]
  },
  {
   "cell_type": "code",
   "execution_count": 8,
   "id": "c774390b",
   "metadata": {},
   "outputs": [
    {
     "name": "stdout",
     "output_type": "stream",
     "text": [
      "llm created\n"
     ]
    }
   ],
   "source": [
    "llm=nakaliLLM()"
   ]
  },
  {
   "cell_type": "code",
   "execution_count": 9,
   "id": "108560e2",
   "metadata": {},
   "outputs": [
    {
     "data": {
      "text/plain": [
       "{'responce': 'rcb is won ipl in 2025'}"
      ]
     },
     "execution_count": 9,
     "metadata": {},
     "output_type": "execute_result"
    }
   ],
   "source": [
    "llm.predict(\"who won the ipl\")"
   ]
  },
  {
   "cell_type": "code",
   "execution_count": null,
   "id": "befd77b7",
   "metadata": {},
   "outputs": [],
   "source": [
    "class NakaliPromptTemplate:\n",
    "    "
   ]
  }
 ],
 "metadata": {
  "kernelspec": {
   "display_name": "somu",
   "language": "python",
   "name": "python3"
  },
  "language_info": {
   "codemirror_mode": {
    "name": "ipython",
    "version": 3
   },
   "file_extension": ".py",
   "mimetype": "text/x-python",
   "name": "python",
   "nbconvert_exporter": "python",
   "pygments_lexer": "ipython3",
   "version": "3.11.11"
  }
 },
 "nbformat": 4,
 "nbformat_minor": 5
}
